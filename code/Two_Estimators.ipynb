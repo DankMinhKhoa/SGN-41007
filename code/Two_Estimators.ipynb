{
 "cells": [
  {
   "cell_type": "markdown",
   "metadata": {},
   "source": [
    "# Example of plotting the distribution of estimates empirically"
   ]
  },
  {
   "cell_type": "markdown",
   "metadata": {},
   "source": [
    "Import the necessary modules:"
   ]
  },
  {
   "cell_type": "code",
   "execution_count": 4,
   "metadata": {
    "collapsed": true
   },
   "outputs": [],
   "source": [
    "import numpy as np\n",
    "import matplotlib.pyplot as plt"
   ]
  },
  {
   "cell_type": "markdown",
   "metadata": {},
   "source": [
    "Define the number of samples and empty lists where we collect the results."
   ]
  },
  {
   "cell_type": "code",
   "execution_count": null,
   "metadata": {
    "collapsed": true
   },
   "outputs": [],
   "source": [
    "mean_estimates_1 = []\n",
    "mean_estimates_2 = []\n",
    "numSamples = 100"
   ]
  },
  {
   "cell_type": "markdown",
   "metadata": {},
   "source": [
    "Iterate 1000 times and apply the two estimators each time."
   ]
  },
  {
   "cell_type": "code",
   "execution_count": null,
   "metadata": {
    "collapsed": true
   },
   "outputs": [],
   "source": [
    "for iteration in range(1000):\n",
    "    \n",
    "    # Create a random sample of data from N(0,1)\n",
    "    x = np.random.randn(numSamples)\n",
    "    \n",
    "    # Compute the estimate of the mean using \n",
    "    # the sample mean\n",
    "    aHat_1 = x.mean() # or np.mean(x)\n",
    "    \n",
    "    # Compute the \"first sample estimator\"\n",
    "    aHat_2 = x[0]\n",
    "    \n",
    "    # Append the computed values to our lists:\n",
    "    mean_estimates_1.append(aHat_1)\n",
    "    mean_estimates_2.append(aHat_2)\n",
    "   "
   ]
  },
  {
   "cell_type": "markdown",
   "metadata": {},
   "source": [
    "Plot the empirical distributions. `plt.subplot` gives a collection of subplots in a list. We also set `sharex = True`, such that the two plots will have same x axis scale."
   ]
  },
  {
   "cell_type": "code",
   "execution_count": 10,
   "metadata": {
    "collapsed": false
   },
   "outputs": [
    {
     "data": {
      "image/png": "[encoded data removed]",
      "text/plain": [
       "<matplotlib.figure.Figure at 0x8fc47b8>"
      ]
     },
     "metadata": {},
     "output_type": "display_data"
    }
   ],
   "source": [
    "fig, axes = plt.subplots(2, 1, sharex=True)\n",
    "\n",
    "axes[0].hist(mean_estimates_1, normed = True)\n",
    "axes[1].hist(mean_estimates_2, normed = True)\n",
    "\n",
    "plt.show()"
   ]
  }
 ],
 "metadata": {
  "anaconda-cloud": {},
  "kernelspec": {
   "display_name": "Python [conda root]",
   "language": "python",
   "name": "conda-root-py"
  },
  "language_info": {
   "codemirror_mode": {
    "name": "ipython",
    "version": 2
   },
   "file_extension": ".py",
   "mimetype": "text/x-python",
   "name": "python",
   "nbconvert_exporter": "python",
   "pygments_lexer": "ipython2",
   "version": "2.7.12"
  }
 },
 "nbformat": 4,
 "nbformat_minor": 1
}
